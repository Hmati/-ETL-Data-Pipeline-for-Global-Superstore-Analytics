{
 "cells": [
  {
   "cell_type": "code",
   "execution_count": 3,
   "id": "41bde75a-006b-4190-9eac-910528143e39",
   "metadata": {},
   "outputs": [
    {
     "name": "stdout",
     "output_type": "stream",
     "text": [
      "Loading Superstore Sales data...\n",
      "Superstore Sales data loaded successfully!\n",
      "Dataset contains 9800 rows and 18 columns.\n",
      "Preview of Superstore Sales data:\n",
      "   Row ID        Order ID  Order Date   Ship Date       Ship Mode Customer ID  \\\n",
      "0       1  CA-2017-152156  08/11/2017  11/11/2017    Second Class    CG-12520   \n",
      "1       2  CA-2017-152156  08/11/2017  11/11/2017    Second Class    CG-12520   \n",
      "2       3  CA-2017-138688  12/06/2017  16/06/2017    Second Class    DV-13045   \n",
      "3       4  US-2016-108966  11/10/2016  18/10/2016  Standard Class    SO-20335   \n",
      "4       5  US-2016-108966  11/10/2016  18/10/2016  Standard Class    SO-20335   \n",
      "\n",
      "     Customer Name    Segment        Country             City       State  \\\n",
      "0      Claire Gute   Consumer  United States        Henderson    Kentucky   \n",
      "1      Claire Gute   Consumer  United States        Henderson    Kentucky   \n",
      "2  Darrin Van Huff  Corporate  United States      Los Angeles  California   \n",
      "3   Sean O'Donnell   Consumer  United States  Fort Lauderdale     Florida   \n",
      "4   Sean O'Donnell   Consumer  United States  Fort Lauderdale     Florida   \n",
      "\n",
      "   Postal Code Region       Product ID         Category Sub-Category  \\\n",
      "0      42420.0  South  FUR-BO-10001798        Furniture    Bookcases   \n",
      "1      42420.0  South  FUR-CH-10000454        Furniture       Chairs   \n",
      "2      90036.0   West  OFF-LA-10000240  Office Supplies       Labels   \n",
      "3      33311.0  South  FUR-TA-10000577        Furniture       Tables   \n",
      "4      33311.0  South  OFF-ST-10000760  Office Supplies      Storage   \n",
      "\n",
      "                                        Product Name     Sales  \n",
      "0                  Bush Somerset Collection Bookcase  261.9600  \n",
      "1  Hon Deluxe Fabric Upholstered Stacking Chairs,...  731.9400  \n",
      "2  Self-Adhesive Address Labels for Typewriters b...   14.6200  \n",
      "3      Bretford CR4500 Series Slim Rectangular Table  957.5775  \n",
      "4                     Eldon Fold 'N Roll Cart System   22.3680  \n"
     ]
    }
   ],
   "source": [
    "# 1_Extract.ipynb\n",
    "\n",
    "# Import necessary libraries\n",
    "import pandas as pd\n",
    "import os\n",
    "\n",
    "# Define paths for the datasets\n",
    "data_dir = r\"C:\\Users\\ADMIN\\Desktop\\Projects\\ETL-Data-Pipeline-for-Global-Superstore-Analytics\\Dataset\"\n",
    "sales_data_path = os.path.join(data_dir, \"Superstore.csv\")\n",
    "geolocation_data_path = os.path.join(data_dir, \"geolocation.csv\")\n",
    "\n",
    "\n",
    "# Load the Superstore Sales dataset\n",
    "print(\"Loading Superstore Sales data...\")\n",
    "sales_data = pd.read_csv(sales_data_path)\n",
    "print(\"Superstore Sales data loaded successfully!\")\n",
    "print(f\"Dataset contains {sales_data.shape[0]} rows and {sales_data.shape[1]} columns.\")\n",
    "\n",
    "# Display the first few rows of the Superstore Sales dataset\n",
    "print(\"Preview of Superstore Sales data:\")\n",
    "print(sales_data.head())"
   ]
  },
  {
   "cell_type": "code",
   "execution_count": 17,
   "id": "616890d8-eee8-4395-9d4a-fd88f0dca647",
   "metadata": {},
   "outputs": [
    {
     "name": "stdout",
     "output_type": "stream",
     "text": [
      "Processed Data:\n",
      "                      iso-3166-1    country       city\n",
      "AD Andorra     Andorra la Vella  42.506317   1.521835\n",
      "   Andorra               Encamp  42.536265   1.583022\n",
      "   Andorra   Escaldes-Engordany  42.510080   1.538786\n",
      "   Andorra           La Massana  42.545625   1.514739\n",
      "   Andorra               Ordino  42.555655   1.533073\n",
      "...                         ...        ...        ...\n",
      "ZW Zimbabwe    Mashonaland West -17.485103  29.788925\n",
      "   Zimbabwe            Masvingo -20.079191  30.838409\n",
      "   Zimbabwe  Matabeleland North -18.533157  27.549585\n",
      "   Zimbabwe  Matabeleland South -21.052337  29.045993\n",
      "   Zimbabwe            Midlands -19.055201  29.603549\n",
      "\n",
      "[3331 rows x 3 columns]\n"
     ]
    }
   ],
   "source": [
    "\n",
    "# Specify the correct file paths\n",
    "input_file = r\"C:\\Users\\ADMIN\\Desktop\\Projects\\ETL-Data-Pipeline-for-Global-Superstore-Analytics\\Dataset\\geolocation.csv\"\n",
    "output_file = r\"C:\\Users\\ADMIN\\Desktop\\Projects\\ETL-Data-Pipeline-for-Global-Superstore-Analytics\\Dataset\\processed_geolocation.csv\"\n",
    "\n",
    "# Read the CSV file with headers\n",
    "df = pd.read_csv(input_file, sep=';')\n",
    "\n",
    "# Keep only the necessary columns\n",
    "df = df[[\"iso-3166-1\", \"country\", \"city\"]]\n",
    "\n",
    "# Save the processed data to a new CSV file\n",
    "df.to_csv(output_file, index=False)\n",
    "\n",
    "print(\"Processed Data:\\n\", df)\n"
   ]
  },
  {
   "cell_type": "code",
   "execution_count": 19,
   "id": "c53b9cbc-f72f-4b9f-a4bc-908495ba6411",
   "metadata": {},
   "outputs": [
    {
     "name": "stdout",
     "output_type": "stream",
     "text": [
      "\n",
      "Loading processed Geolocation data...\n",
      "Processed Geolocation data loaded successfully!\n",
      "Dataset contains 3331 rows and 3 columns.\n",
      "Preview of processed Geolocation data:\n",
      "           iso-3166-1    country      city\n",
      "0    Andorra la Vella  42.506317  1.521835\n",
      "1              Encamp  42.536265  1.583022\n",
      "2  Escaldes-Engordany  42.510080  1.538786\n",
      "3          La Massana  42.545625  1.514739\n",
      "4              Ordino  42.555655  1.533073\n"
     ]
    }
   ],
   "source": [
    "# Load the processed Geolocation dataset\n",
    "print(\"\\nLoading processed Geolocation data...\")\n",
    "processed_geolocation_data_path = r\"C:\\Users\\ADMIN\\Desktop\\Projects\\ETL-Data-Pipeline-for-Global-Superstore-Analytics\\Dataset\\processed_geolocation.csv\"\n",
    "processed_geolocation_data = pd.read_csv(processed_geolocation_data_path)\n",
    "print(\"Processed Geolocation data loaded successfully!\")\n",
    "print(f\"Dataset contains {processed_geolocation_data.shape[0]} rows and {processed_geolocation_data.shape[1]} columns.\")\n",
    "\n",
    "# Display the first few rows of the processed Geolocation dataset\n",
    "print(\"Preview of processed Geolocation data:\")\n",
    "print(processed_geolocation_data.head())\n"
   ]
  },
  {
   "cell_type": "code",
   "execution_count": 21,
   "id": "dd3d61ad-3557-44c0-8593-18261c177b2c",
   "metadata": {},
   "outputs": [
    {
     "name": "stdout",
     "output_type": "stream",
     "text": [
      "\n",
      "Checking for missing values...\n",
      "Superstore Sales dataset:\n",
      "Row ID            0\n",
      "Order ID          0\n",
      "Order Date        0\n",
      "Ship Date         0\n",
      "Ship Mode         0\n",
      "Customer ID       0\n",
      "Customer Name     0\n",
      "Segment           0\n",
      "Country           0\n",
      "City              0\n",
      "State             0\n",
      "Postal Code      11\n",
      "Region            0\n",
      "Product ID        0\n",
      "Category          0\n",
      "Sub-Category      0\n",
      "Product Name      0\n",
      "Sales             0\n",
      "dtype: int64\n",
      "\n",
      "Processed Geolocation dataset:\n",
      "iso-3166-1    0\n",
      "country       0\n",
      "city          0\n",
      "dtype: int64\n",
      "\n",
      "Data extraction and backup completed!\n"
     ]
    }
   ],
   "source": [
    "import os\n",
    "import pandas as pd\n",
    "\n",
    "# Check for missing values in both datasets\n",
    "print(\"\\nChecking for missing values...\")\n",
    "\n",
    "print(\"Superstore Sales dataset:\")\n",
    "print(sales_data.isnull().sum())  # Assuming `sales_data` is already loaded\n",
    "\n",
    "print(\"\\nProcessed Geolocation dataset:\")\n",
    "processed_geolocation_data_path = r\"C:\\Users\\ADMIN\\Desktop\\Projects\\ETL-Data-Pipeline-for-Global-Superstore-Analytics\\Dataset\\processed_geolocation.csv\"\n",
    "processed_geolocation = pd.read_csv(processed_geolocation_data_path)  # Load processed geolocation data\n",
    "print(processed_geolocation.isnull().sum())  # Check for missing values in geolocation data\n",
    "\n",
    "# Create the processed directory for backup\n",
    "processed_dir = r\"C:\\Users\\ADMIN\\Desktop\\Projects\\ETL-Data-Pipeline-for-Global-Superstore-Analytics\\Dataset\\processed_backup\"\n",
    "os.makedirs(processed_dir, exist_ok=True)\n",
    "\n",
    "# Save the loaded dataframes to the processed folder for backup\n",
    "sales_backup_path = os.path.join(processed_dir, \"superstore_sales_backup.csv\")\n",
    "geolocation_backup_path = os.path.join(processed_dir, \"geolocation_backup.csv\")\n",
    "\n",
    "sales_data.to_csv(sales_backup_path, index=False)\n",
    "processed_geolocation.to_csv(geolocation_backup_path, index=False)\n",
    "\n",
    "print(\"\\nData extraction and backup completed!\")\n"
   ]
  },
  {
   "cell_type": "code",
   "execution_count": null,
   "id": "23e4654b-d8eb-46c7-916d-aac0aa39fc87",
   "metadata": {},
   "outputs": [],
   "source": []
  }
 ],
 "metadata": {
  "kernelspec": {
   "display_name": "Python 3 (ipykernel)",
   "language": "python",
   "name": "python3"
  },
  "language_info": {
   "codemirror_mode": {
    "name": "ipython",
    "version": 3
   },
   "file_extension": ".py",
   "mimetype": "text/x-python",
   "name": "python",
   "nbconvert_exporter": "python",
   "pygments_lexer": "ipython3",
   "version": "3.10.15"
  }
 },
 "nbformat": 4,
 "nbformat_minor": 5
}
