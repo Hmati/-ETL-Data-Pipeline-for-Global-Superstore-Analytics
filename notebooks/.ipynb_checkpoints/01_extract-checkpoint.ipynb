{
 "cells": [
  {
   "cell_type": "code",
   "execution_count": null,
   "id": "dd3d61ad-3557-44c0-8593-18261c177b2c",
   "metadata": {},
   "outputs": [],
   "source": [
    "# 1_Extract.ipynb\n",
    "\n",
    "# Import necessary libraries\n",
    "import pandas as pd\n",
    "import os\n",
    "\n",
    "# Define paths for the datasets\n",
    "data_dir = \"../data/raw/\"\n",
    "sales_data_path = os.path.join(data_dir, \"superstore_sales.csv\")\n",
    "geolocation_data_path = os.path.join(data_dir, \"geolocation.csv\")\n",
    "\n",
    "# Load the Superstore Sales dataset\n",
    "print(\"Loading Superstore Sales data...\")\n",
    "sales_data = pd.read_csv(sales_data_path)\n",
    "print(\"Superstore Sales data loaded successfully!\")\n",
    "print(f\"Dataset contains {sales_data.shape[0]} rows and {sales_data.shape[1]} columns.\")\n",
    "\n",
    "# Display the first few rows of the Superstore Sales dataset\n",
    "print(\"Preview of Superstore Sales data:\")\n",
    "print(sales_data.head())\n",
    "\n",
    "# Load the Geolocation dataset\n",
    "print(\"\\nLoading Geolocation data...\")\n",
    "geolocation_data = pd.read_csv(geolocation_data_path)\n",
    "print(\"Geolocation data loaded successfully!\")\n",
    "print(f\"Dataset contains {geolocation_data.shape[0]} rows and {geolocation_data.shape[1]} columns.\")\n",
    "\n",
    "# Display the first few rows of the Geolocation dataset\n",
    "print(\"Preview of Geolocation data:\")\n",
    "print(geolocation_data.head())\n",
    "\n",
    "# Check for missing values in both datasets\n",
    "print(\"\\nChecking for missing values...\")\n",
    "print(\"Superstore Sales dataset:\")\n",
    "print(sales_data.isnull().sum())\n",
    "print(\"\\nGeolocation dataset:\")\n",
    "print(geolocation_data.isnull().sum())\n",
    "\n",
    "# Save the loaded dataframes to the processed folder for backup\n",
    "processed_dir = \"../data/processed/\"\n",
    "os.makedirs(processed_dir, exist_ok=True)\n",
    "\n",
    "sales_backup_path = os.path.join(processed_dir, \"superstore_sales_backup.csv\")\n",
    "geolocation_backup_path = os.path.join(processed_dir, \"geolocation_backup.csv\")\n",
    "\n",
    "sales_data.to_csv(sales_backup_path, index=False)\n",
    "geolocation_data.to_csv(geolocation_backup_path, index=False)\n",
    "\n",
    "print(\"\\nData extraction and backup completed!\")\n"
   ]
  }
 ],
 "metadata": {
  "kernelspec": {
   "display_name": "Python 3 (ipykernel)",
   "language": "python",
   "name": "python3"
  },
  "language_info": {
   "codemirror_mode": {
    "name": "ipython",
    "version": 3
   },
   "file_extension": ".py",
   "mimetype": "text/x-python",
   "name": "python",
   "nbconvert_exporter": "python",
   "pygments_lexer": "ipython3",
   "version": "3.10.15"
  }
 },
 "nbformat": 4,
 "nbformat_minor": 5
}
