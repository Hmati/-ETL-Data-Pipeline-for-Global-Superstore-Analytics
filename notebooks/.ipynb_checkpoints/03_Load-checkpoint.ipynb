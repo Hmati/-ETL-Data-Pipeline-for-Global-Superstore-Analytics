{
 "cells": [
  {
   "cell_type": "code",
   "execution_count": null,
   "id": "c7cefeb0-c15b-48a7-b4c5-da4884e71d2a",
   "metadata": {},
   "outputs": [],
   "source": [
    "# 3_Load.ipynb\n",
    "\n",
    "# Import necessary libraries\n",
    "import pandas as pd\n",
    "import sqlalchemy\n",
    "from sqlalchemy import create_engine\n",
    "import os\n",
    "from sqlalchemy.exc import SQLAlchemyError\n",
    "\n",
    "# Define paths for the transformed dataset\n",
    "transformed_dir = \"../data/transformed/\"\n",
    "transformed_data_path = os.path.join(transformed_dir, \"transformed_data.csv\")\n",
    "\n",
    "# Database configuration\n",
    "DATABASE_TYPE = 'postgresql'\n",
    "DBAPI = 'psycopg2'\n",
    "ENDPOINT = 'localhost'  # Replace with your database endpoint\n",
    "USER = 'username'       # Replace with your database username\n",
    "PASSWORD = 'password'   # Replace with your database password\n",
    "PORT = 5432             # Default PostgreSQL port\n",
    "DATABASE = 'etl_project_db'\n",
    "\n",
    "# Create database engine\n",
    "print(\"Connecting to the database...\")\n",
    "try:\n",
    "    engine = create_engine(f\"{DATABASE_TYPE}+{DBAPI}://{USER}:{PASSWORD}@{ENDPOINT}:{PORT}/{DATABASE}\")\n",
    "    # Test connection\n",
    "    with engine.connect() as connection:\n",
    "        print(\"Database connection established!\")\n",
    "except SQLAlchemyError as e:\n",
    "    print(f\"Error occurred while connecting to the database: {e}\")\n",
    "    exit(1)\n",
    "\n",
    "# Load transformed data\n",
    "print(\"Loading transformed data...\")\n",
    "try:\n",
    "    transformed_data = pd.read_csv(transformed_data_path)\n",
    "    print(f\"Transformed data loaded with {transformed_data.shape[0]} rows and {transformed_data.shape[1]} columns.\")\n",
    "except Exception as e:\n",
    "    print(f\"Error occurred while loading the transformed data: {e}\")\n",
    "    exit(1)\n",
    "\n",
    "# Load data into the database\n",
    "TABLE_NAME = 'superstore_analytics'\n",
    "print(f\"Uploading data to the '{TABLE_NAME}' table...\")\n",
    "\n",
    "try:\n",
    "    transformed_data.to_sql(TABLE_NAME, engine, if_exists='replace', index=False)\n",
    "    print(\"\\nData successfully loaded into the database!\")\n",
    "except SQLAlchemyError as e:\n",
    "    print(f\"Error occurred while uploading data to the database: {e}\")\n",
    "    exit(1)\n"
   ]
  }
 ],
 "metadata": {
  "kernelspec": {
   "display_name": "Python 3 (ipykernel)",
   "language": "python",
   "name": "python3"
  },
  "language_info": {
   "codemirror_mode": {
    "name": "ipython",
    "version": 3
   },
   "file_extension": ".py",
   "mimetype": "text/x-python",
   "name": "python",
   "nbconvert_exporter": "python",
   "pygments_lexer": "ipython3",
   "version": "3.10.15"
  }
 },
 "nbformat": 4,
 "nbformat_minor": 5
}
